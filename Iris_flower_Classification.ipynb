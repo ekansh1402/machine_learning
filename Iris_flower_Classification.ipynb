{
  "nbformat": 4,
  "nbformat_minor": 0,
  "metadata": {
    "colab": {
      "provenance": [],
      "authorship_tag": "ABX9TyN+DV//KAikFWLPFfBskW81",
      "include_colab_link": true
    },
    "kernelspec": {
      "name": "python3",
      "display_name": "Python 3"
    },
    "language_info": {
      "name": "python"
    }
  },
  "cells": [
    {
      "cell_type": "markdown",
      "metadata": {
        "id": "view-in-github",
        "colab_type": "text"
      },
      "source": [
        "<a href=\"https://colab.research.google.com/github/ekansh1402/machine_learning/blob/main/Iris_flower_Classification.ipynb\" target=\"_parent\"><img src=\"https://colab.research.google.com/assets/colab-badge.svg\" alt=\"Open In Colab\"/></a>"
      ]
    },
    {
      "cell_type": "markdown",
      "source": [],
      "metadata": {
        "id": "fUQ5-zXnZuGy"
      }
    },
    {
      "cell_type": "markdown",
      "source": [
        "# Iris Flower Classification"
      ],
      "metadata": {
        "id": "8PhA2tsDZv4G"
      }
    },
    {
      "cell_type": "code",
      "execution_count": 1,
      "metadata": {
        "id": "9Nu706tNwoJh"
      },
      "outputs": [],
      "source": [
        "import pandas as pd\n",
        "import numpy as np\n",
        "import matplotlib.pyplot as plt"
      ]
    },
    {
      "cell_type": "markdown",
      "source": [
        "##Importing the Dataset"
      ],
      "metadata": {
        "id": "QjSv_Ofcw0sD"
      }
    },
    {
      "cell_type": "code",
      "source": [
        "df=pd.read_csv('/content/Iris Flower - Iris.csv')"
      ],
      "metadata": {
        "id": "I3t8fEoKw0c0"
      },
      "execution_count": 2,
      "outputs": []
    },
    {
      "cell_type": "markdown",
      "source": [
        "##Viewing Dataset"
      ],
      "metadata": {
        "id": "2U_wMjDexUpH"
      }
    },
    {
      "cell_type": "code",
      "source": [
        "df.head()"
      ],
      "metadata": {
        "colab": {
          "base_uri": "https://localhost:8080/",
          "height": 206
        },
        "id": "qSsoE14fxYBj",
        "outputId": "288b46c9-ad9a-4136-c761-0b781f358a5c"
      },
      "execution_count": 3,
      "outputs": [
        {
          "output_type": "execute_result",
          "data": {
            "text/plain": [
              "   Id  SepalLengthCm  SepalWidthCm  PetalLengthCm  PetalWidthCm      Species\n",
              "0   1            5.1           3.5            1.4           0.2  Iris-setosa\n",
              "1   2            4.9           3.0            1.4           0.2  Iris-setosa\n",
              "2   3            4.7           3.2            1.3           0.2  Iris-setosa\n",
              "3   4            4.6           3.1            1.5           0.2  Iris-setosa\n",
              "4   5            5.0           3.6            1.4           0.2  Iris-setosa"
            ],
            "text/html": [
              "\n",
              "  <div id=\"df-08bc98ed-2971-4987-a946-095337981e45\" class=\"colab-df-container\">\n",
              "    <div>\n",
              "<style scoped>\n",
              "    .dataframe tbody tr th:only-of-type {\n",
              "        vertical-align: middle;\n",
              "    }\n",
              "\n",
              "    .dataframe tbody tr th {\n",
              "        vertical-align: top;\n",
              "    }\n",
              "\n",
              "    .dataframe thead th {\n",
              "        text-align: right;\n",
              "    }\n",
              "</style>\n",
              "<table border=\"1\" class=\"dataframe\">\n",
              "  <thead>\n",
              "    <tr style=\"text-align: right;\">\n",
              "      <th></th>\n",
              "      <th>Id</th>\n",
              "      <th>SepalLengthCm</th>\n",
              "      <th>SepalWidthCm</th>\n",
              "      <th>PetalLengthCm</th>\n",
              "      <th>PetalWidthCm</th>\n",
              "      <th>Species</th>\n",
              "    </tr>\n",
              "  </thead>\n",
              "  <tbody>\n",
              "    <tr>\n",
              "      <th>0</th>\n",
              "      <td>1</td>\n",
              "      <td>5.1</td>\n",
              "      <td>3.5</td>\n",
              "      <td>1.4</td>\n",
              "      <td>0.2</td>\n",
              "      <td>Iris-setosa</td>\n",
              "    </tr>\n",
              "    <tr>\n",
              "      <th>1</th>\n",
              "      <td>2</td>\n",
              "      <td>4.9</td>\n",
              "      <td>3.0</td>\n",
              "      <td>1.4</td>\n",
              "      <td>0.2</td>\n",
              "      <td>Iris-setosa</td>\n",
              "    </tr>\n",
              "    <tr>\n",
              "      <th>2</th>\n",
              "      <td>3</td>\n",
              "      <td>4.7</td>\n",
              "      <td>3.2</td>\n",
              "      <td>1.3</td>\n",
              "      <td>0.2</td>\n",
              "      <td>Iris-setosa</td>\n",
              "    </tr>\n",
              "    <tr>\n",
              "      <th>3</th>\n",
              "      <td>4</td>\n",
              "      <td>4.6</td>\n",
              "      <td>3.1</td>\n",
              "      <td>1.5</td>\n",
              "      <td>0.2</td>\n",
              "      <td>Iris-setosa</td>\n",
              "    </tr>\n",
              "    <tr>\n",
              "      <th>4</th>\n",
              "      <td>5</td>\n",
              "      <td>5.0</td>\n",
              "      <td>3.6</td>\n",
              "      <td>1.4</td>\n",
              "      <td>0.2</td>\n",
              "      <td>Iris-setosa</td>\n",
              "    </tr>\n",
              "  </tbody>\n",
              "</table>\n",
              "</div>\n",
              "    <div class=\"colab-df-buttons\">\n",
              "\n",
              "  <div class=\"colab-df-container\">\n",
              "    <button class=\"colab-df-convert\" onclick=\"convertToInteractive('df-08bc98ed-2971-4987-a946-095337981e45')\"\n",
              "            title=\"Convert this dataframe to an interactive table.\"\n",
              "            style=\"display:none;\">\n",
              "\n",
              "  <svg xmlns=\"http://www.w3.org/2000/svg\" height=\"24px\" viewBox=\"0 -960 960 960\">\n",
              "    <path d=\"M120-120v-720h720v720H120Zm60-500h600v-160H180v160Zm220 220h160v-160H400v160Zm0 220h160v-160H400v160ZM180-400h160v-160H180v160Zm440 0h160v-160H620v160ZM180-180h160v-160H180v160Zm440 0h160v-160H620v160Z\"/>\n",
              "  </svg>\n",
              "    </button>\n",
              "\n",
              "  <style>\n",
              "    .colab-df-container {\n",
              "      display:flex;\n",
              "      gap: 12px;\n",
              "    }\n",
              "\n",
              "    .colab-df-convert {\n",
              "      background-color: #E8F0FE;\n",
              "      border: none;\n",
              "      border-radius: 50%;\n",
              "      cursor: pointer;\n",
              "      display: none;\n",
              "      fill: #1967D2;\n",
              "      height: 32px;\n",
              "      padding: 0 0 0 0;\n",
              "      width: 32px;\n",
              "    }\n",
              "\n",
              "    .colab-df-convert:hover {\n",
              "      background-color: #E2EBFA;\n",
              "      box-shadow: 0px 1px 2px rgba(60, 64, 67, 0.3), 0px 1px 3px 1px rgba(60, 64, 67, 0.15);\n",
              "      fill: #174EA6;\n",
              "    }\n",
              "\n",
              "    .colab-df-buttons div {\n",
              "      margin-bottom: 4px;\n",
              "    }\n",
              "\n",
              "    [theme=dark] .colab-df-convert {\n",
              "      background-color: #3B4455;\n",
              "      fill: #D2E3FC;\n",
              "    }\n",
              "\n",
              "    [theme=dark] .colab-df-convert:hover {\n",
              "      background-color: #434B5C;\n",
              "      box-shadow: 0px 1px 3px 1px rgba(0, 0, 0, 0.15);\n",
              "      filter: drop-shadow(0px 1px 2px rgba(0, 0, 0, 0.3));\n",
              "      fill: #FFFFFF;\n",
              "    }\n",
              "  </style>\n",
              "\n",
              "    <script>\n",
              "      const buttonEl =\n",
              "        document.querySelector('#df-08bc98ed-2971-4987-a946-095337981e45 button.colab-df-convert');\n",
              "      buttonEl.style.display =\n",
              "        google.colab.kernel.accessAllowed ? 'block' : 'none';\n",
              "\n",
              "      async function convertToInteractive(key) {\n",
              "        const element = document.querySelector('#df-08bc98ed-2971-4987-a946-095337981e45');\n",
              "        const dataTable =\n",
              "          await google.colab.kernel.invokeFunction('convertToInteractive',\n",
              "                                                    [key], {});\n",
              "        if (!dataTable) return;\n",
              "\n",
              "        const docLinkHtml = 'Like what you see? Visit the ' +\n",
              "          '<a target=\"_blank\" href=https://colab.research.google.com/notebooks/data_table.ipynb>data table notebook</a>'\n",
              "          + ' to learn more about interactive tables.';\n",
              "        element.innerHTML = '';\n",
              "        dataTable['output_type'] = 'display_data';\n",
              "        await google.colab.output.renderOutput(dataTable, element);\n",
              "        const docLink = document.createElement('div');\n",
              "        docLink.innerHTML = docLinkHtml;\n",
              "        element.appendChild(docLink);\n",
              "      }\n",
              "    </script>\n",
              "  </div>\n",
              "\n",
              "\n",
              "<div id=\"df-8a697cf5-05cf-4706-80cb-ef1b29d6945d\">\n",
              "  <button class=\"colab-df-quickchart\" onclick=\"quickchart('df-8a697cf5-05cf-4706-80cb-ef1b29d6945d')\"\n",
              "            title=\"Suggest charts\"\n",
              "            style=\"display:none;\">\n",
              "\n",
              "<svg xmlns=\"http://www.w3.org/2000/svg\" height=\"24px\"viewBox=\"0 0 24 24\"\n",
              "     width=\"24px\">\n",
              "    <g>\n",
              "        <path d=\"M19 3H5c-1.1 0-2 .9-2 2v14c0 1.1.9 2 2 2h14c1.1 0 2-.9 2-2V5c0-1.1-.9-2-2-2zM9 17H7v-7h2v7zm4 0h-2V7h2v10zm4 0h-2v-4h2v4z\"/>\n",
              "    </g>\n",
              "</svg>\n",
              "  </button>\n",
              "\n",
              "<style>\n",
              "  .colab-df-quickchart {\n",
              "      --bg-color: #E8F0FE;\n",
              "      --fill-color: #1967D2;\n",
              "      --hover-bg-color: #E2EBFA;\n",
              "      --hover-fill-color: #174EA6;\n",
              "      --disabled-fill-color: #AAA;\n",
              "      --disabled-bg-color: #DDD;\n",
              "  }\n",
              "\n",
              "  [theme=dark] .colab-df-quickchart {\n",
              "      --bg-color: #3B4455;\n",
              "      --fill-color: #D2E3FC;\n",
              "      --hover-bg-color: #434B5C;\n",
              "      --hover-fill-color: #FFFFFF;\n",
              "      --disabled-bg-color: #3B4455;\n",
              "      --disabled-fill-color: #666;\n",
              "  }\n",
              "\n",
              "  .colab-df-quickchart {\n",
              "    background-color: var(--bg-color);\n",
              "    border: none;\n",
              "    border-radius: 50%;\n",
              "    cursor: pointer;\n",
              "    display: none;\n",
              "    fill: var(--fill-color);\n",
              "    height: 32px;\n",
              "    padding: 0;\n",
              "    width: 32px;\n",
              "  }\n",
              "\n",
              "  .colab-df-quickchart:hover {\n",
              "    background-color: var(--hover-bg-color);\n",
              "    box-shadow: 0 1px 2px rgba(60, 64, 67, 0.3), 0 1px 3px 1px rgba(60, 64, 67, 0.15);\n",
              "    fill: var(--button-hover-fill-color);\n",
              "  }\n",
              "\n",
              "  .colab-df-quickchart-complete:disabled,\n",
              "  .colab-df-quickchart-complete:disabled:hover {\n",
              "    background-color: var(--disabled-bg-color);\n",
              "    fill: var(--disabled-fill-color);\n",
              "    box-shadow: none;\n",
              "  }\n",
              "\n",
              "  .colab-df-spinner {\n",
              "    border: 2px solid var(--fill-color);\n",
              "    border-color: transparent;\n",
              "    border-bottom-color: var(--fill-color);\n",
              "    animation:\n",
              "      spin 1s steps(1) infinite;\n",
              "  }\n",
              "\n",
              "  @keyframes spin {\n",
              "    0% {\n",
              "      border-color: transparent;\n",
              "      border-bottom-color: var(--fill-color);\n",
              "      border-left-color: var(--fill-color);\n",
              "    }\n",
              "    20% {\n",
              "      border-color: transparent;\n",
              "      border-left-color: var(--fill-color);\n",
              "      border-top-color: var(--fill-color);\n",
              "    }\n",
              "    30% {\n",
              "      border-color: transparent;\n",
              "      border-left-color: var(--fill-color);\n",
              "      border-top-color: var(--fill-color);\n",
              "      border-right-color: var(--fill-color);\n",
              "    }\n",
              "    40% {\n",
              "      border-color: transparent;\n",
              "      border-right-color: var(--fill-color);\n",
              "      border-top-color: var(--fill-color);\n",
              "    }\n",
              "    60% {\n",
              "      border-color: transparent;\n",
              "      border-right-color: var(--fill-color);\n",
              "    }\n",
              "    80% {\n",
              "      border-color: transparent;\n",
              "      border-right-color: var(--fill-color);\n",
              "      border-bottom-color: var(--fill-color);\n",
              "    }\n",
              "    90% {\n",
              "      border-color: transparent;\n",
              "      border-bottom-color: var(--fill-color);\n",
              "    }\n",
              "  }\n",
              "</style>\n",
              "\n",
              "  <script>\n",
              "    async function quickchart(key) {\n",
              "      const quickchartButtonEl =\n",
              "        document.querySelector('#' + key + ' button');\n",
              "      quickchartButtonEl.disabled = true;  // To prevent multiple clicks.\n",
              "      quickchartButtonEl.classList.add('colab-df-spinner');\n",
              "      try {\n",
              "        const charts = await google.colab.kernel.invokeFunction(\n",
              "            'suggestCharts', [key], {});\n",
              "      } catch (error) {\n",
              "        console.error('Error during call to suggestCharts:', error);\n",
              "      }\n",
              "      quickchartButtonEl.classList.remove('colab-df-spinner');\n",
              "      quickchartButtonEl.classList.add('colab-df-quickchart-complete');\n",
              "    }\n",
              "    (() => {\n",
              "      let quickchartButtonEl =\n",
              "        document.querySelector('#df-8a697cf5-05cf-4706-80cb-ef1b29d6945d button');\n",
              "      quickchartButtonEl.style.display =\n",
              "        google.colab.kernel.accessAllowed ? 'block' : 'none';\n",
              "    })();\n",
              "  </script>\n",
              "</div>\n",
              "\n",
              "    </div>\n",
              "  </div>\n"
            ],
            "application/vnd.google.colaboratory.intrinsic+json": {
              "type": "dataframe",
              "variable_name": "df",
              "summary": "{\n  \"name\": \"df\",\n  \"rows\": 150,\n  \"fields\": [\n    {\n      \"column\": \"Id\",\n      \"properties\": {\n        \"dtype\": \"number\",\n        \"std\": 43,\n        \"min\": 1,\n        \"max\": 150,\n        \"num_unique_values\": 150,\n        \"samples\": [\n          74,\n          19,\n          119\n        ],\n        \"semantic_type\": \"\",\n        \"description\": \"\"\n      }\n    },\n    {\n      \"column\": \"SepalLengthCm\",\n      \"properties\": {\n        \"dtype\": \"number\",\n        \"std\": 0.828066127977863,\n        \"min\": 4.3,\n        \"max\": 7.9,\n        \"num_unique_values\": 35,\n        \"samples\": [\n          6.2,\n          4.5,\n          5.6\n        ],\n        \"semantic_type\": \"\",\n        \"description\": \"\"\n      }\n    },\n    {\n      \"column\": \"SepalWidthCm\",\n      \"properties\": {\n        \"dtype\": \"number\",\n        \"std\": 0.4335943113621737,\n        \"min\": 2.0,\n        \"max\": 4.4,\n        \"num_unique_values\": 23,\n        \"samples\": [\n          2.3,\n          4.0,\n          3.5\n        ],\n        \"semantic_type\": \"\",\n        \"description\": \"\"\n      }\n    },\n    {\n      \"column\": \"PetalLengthCm\",\n      \"properties\": {\n        \"dtype\": \"number\",\n        \"std\": 1.7644204199522626,\n        \"min\": 1.0,\n        \"max\": 6.9,\n        \"num_unique_values\": 43,\n        \"samples\": [\n          6.7,\n          3.8,\n          3.7\n        ],\n        \"semantic_type\": \"\",\n        \"description\": \"\"\n      }\n    },\n    {\n      \"column\": \"PetalWidthCm\",\n      \"properties\": {\n        \"dtype\": \"number\",\n        \"std\": 0.7631607417008411,\n        \"min\": 0.1,\n        \"max\": 2.5,\n        \"num_unique_values\": 22,\n        \"samples\": [\n          0.2,\n          1.2,\n          1.3\n        ],\n        \"semantic_type\": \"\",\n        \"description\": \"\"\n      }\n    },\n    {\n      \"column\": \"Species\",\n      \"properties\": {\n        \"dtype\": \"category\",\n        \"num_unique_values\": 3,\n        \"samples\": [\n          \"Iris-setosa\",\n          \"Iris-versicolor\",\n          \"Iris-virginica\"\n        ],\n        \"semantic_type\": \"\",\n        \"description\": \"\"\n      }\n    }\n  ]\n}"
            }
          },
          "metadata": {},
          "execution_count": 3
        }
      ]
    },
    {
      "cell_type": "markdown",
      "source": [
        "## Analysing the Dataset"
      ],
      "metadata": {
        "id": "4b8u9qTLa7Nt"
      }
    },
    {
      "cell_type": "code",
      "source": [
        "df.info()"
      ],
      "metadata": {
        "id": "qTsLJ-GmbAdX",
        "colab": {
          "base_uri": "https://localhost:8080/"
        },
        "outputId": "1b396d49-d814-43bf-b00f-78d9ea521a99"
      },
      "execution_count": 4,
      "outputs": [
        {
          "output_type": "stream",
          "name": "stdout",
          "text": [
            "<class 'pandas.core.frame.DataFrame'>\n",
            "RangeIndex: 150 entries, 0 to 149\n",
            "Data columns (total 6 columns):\n",
            " #   Column         Non-Null Count  Dtype  \n",
            "---  ------         --------------  -----  \n",
            " 0   Id             150 non-null    int64  \n",
            " 1   SepalLengthCm  150 non-null    float64\n",
            " 2   SepalWidthCm   150 non-null    float64\n",
            " 3   PetalLengthCm  150 non-null    float64\n",
            " 4   PetalWidthCm   150 non-null    float64\n",
            " 5   Species        150 non-null    object \n",
            "dtypes: float64(4), int64(1), object(1)\n",
            "memory usage: 7.2+ KB\n"
          ]
        }
      ]
    },
    {
      "cell_type": "markdown",
      "source": [
        "### feature distribution"
      ],
      "metadata": {
        "id": "05x8WfXqiAk1"
      }
    },
    {
      "cell_type": "code",
      "source": [
        "plt.figure()\n",
        "plt.suptitle('Distribution of Iris Flower Measurements')\n",
        "\n",
        "\n",
        "plt.subplot(2, 2, 1)\n",
        "plt.hist(df['SepalLengthCm'])\n",
        "plt.title('Sepal Length Distribution')\n",
        "\n",
        "plt.subplot(2, 2, 2)\n",
        "plt.hist(df['SepalWidthCm'])\n",
        "plt.title('Sepal Width Distribution')\n",
        "\n",
        "plt.subplot(2, 2, 3)\n",
        "plt.hist(df['PetalLengthCm'])\n",
        "plt.title('Petal Length Distribution')\n",
        "\n",
        "plt.subplot(2, 2, 4)\n",
        "plt.hist(df['PetalWidthCm'])\n",
        "plt.title('Petal Width Distribution')\n",
        "\n",
        "\n",
        "plt.tight_layout()\n",
        "plt.show()"
      ],
      "metadata": {
        "colab": {
          "base_uri": "https://localhost:8080/",
          "height": 492
        },
        "id": "-yraZA2xiFh1",
        "outputId": "0956a5d2-a088-4717-83b2-8ba6061c92a7"
      },
      "execution_count": 5,
      "outputs": [
        {
          "output_type": "display_data",
          "data": {
            "text/plain": [
              "<Figure size 640x480 with 4 Axes>"
            ],
            "image/png": "[encoded data removed]"
          },
          "metadata": {}
        }
      ]
    },
    {
      "cell_type": "markdown",
      "source": [
        "### correlation matrix"
      ],
      "metadata": {
        "id": "9c73NMLYj46v"
      }
    },
    {
      "cell_type": "code",
      "source": [
        "import seaborn as sns\n",
        "cor=df.iloc[:,1:-1].corr()\n",
        "sns.heatmap(cor,annot=True)\n",
        "plt.title('correlation matrix')\n",
        "plt.show()"
      ],
      "metadata": {
        "colab": {
          "base_uri": "https://localhost:8080/",
          "height": 548
        },
        "id": "axZWGDqnmFtt",
        "outputId": "7a0979b5-fc8d-49dc-e1a0-7a3443d70293"
      },
      "execution_count": 6,
      "outputs": [
        {
          "output_type": "display_data",
          "data": {
            "text/plain": [
              "<Figure size 640x480 with 2 Axes>"
            ],
            "image/png": "[encoded data removed]"
          },
          "metadata": {}
        }
      ]
    },
    {
      "cell_type": "markdown",
      "source": [
        "##Duplicates"
      ],
      "metadata": {
        "id": "kAheCm9mbGxi"
      }
    },
    {
      "cell_type": "code",
      "source": [
        "print(\"number of duplicated rows:\",df.duplicated().sum())\n"
      ],
      "metadata": {
        "id": "3EF605fsbLAt",
        "colab": {
          "base_uri": "https://localhost:8080/"
        },
        "outputId": "cc0c9ea8-0c08-49e9-a90d-c0bdd383347a"
      },
      "execution_count": 7,
      "outputs": [
        {
          "output_type": "stream",
          "name": "stdout",
          "text": [
            "number of duplicated rows: 0\n"
          ]
        }
      ]
    },
    {
      "cell_type": "markdown",
      "source": [
        "## Creating feature set and label set"
      ],
      "metadata": {
        "id": "M5So15YRbefQ"
      }
    },
    {
      "cell_type": "code",
      "source": [
        "X=df.iloc[:,1:-1].values\n",
        "y=df.iloc[:,-1].values"
      ],
      "metadata": {
        "id": "YEFPKoTPxkhY"
      },
      "execution_count": 8,
      "outputs": []
    },
    {
      "cell_type": "markdown",
      "source": [],
      "metadata": {
        "id": "FQ8a2rE9h480"
      }
    },
    {
      "cell_type": "markdown",
      "source": [
        "## Data Pre-Processing"
      ],
      "metadata": {
        "id": "9socFmxFyG2c"
      }
    },
    {
      "cell_type": "code",
      "source": [
        "from sklearn.preprocessing import LabelEncoder\n",
        "from sklearn.model_selection import train_test_split\n",
        "from sklearn.preprocessing import StandardScaler\n"
      ],
      "metadata": {
        "id": "TXKyoTVSyKVO"
      },
      "execution_count": 9,
      "outputs": []
    },
    {
      "cell_type": "markdown",
      "source": [
        "### Encoding y"
      ],
      "metadata": {
        "id": "O2yRq1hTfaUU"
      }
    },
    {
      "cell_type": "code",
      "source": [
        "le=LabelEncoder()\n",
        "y=le.fit_transform(y)\n",
        "print(\"number of labels with label 0:\",y[y==0].size)\n",
        "print(\"number of labels with label 1:\",y[y==1].size)\n",
        "print(\"number of labels with label 2:\",y[y==2].size)"
      ],
      "metadata": {
        "id": "4KzXmvjLfeFm",
        "colab": {
          "base_uri": "https://localhost:8080/"
        },
        "outputId": "0780a6f2-f4ea-49ba-a89c-a7cb31caa60a"
      },
      "execution_count": 10,
      "outputs": [
        {
          "output_type": "stream",
          "name": "stdout",
          "text": [
            "number of labels with label 0: 50\n",
            "number of labels with label 1: 50\n",
            "number of labels with label 2: 50\n"
          ]
        }
      ]
    },
    {
      "cell_type": "markdown",
      "source": [
        "### Data splitting"
      ],
      "metadata": {
        "id": "xXTb96rwezZs"
      }
    },
    {
      "cell_type": "code",
      "source": [
        "X_train,X_test,y_train,y_test = train_test_split(X,y,test_size=0.3,random_state=41)"
      ],
      "metadata": {
        "id": "_6YLZMD6e-uE"
      },
      "execution_count": 11,
      "outputs": []
    },
    {
      "cell_type": "markdown",
      "source": [
        "### Feature Scaling"
      ],
      "metadata": {
        "id": "xecS1qT2fDms"
      }
    },
    {
      "cell_type": "code",
      "source": [
        "sc=StandardScaler()\n",
        "X_train=sc.fit_transform(X_train)\n",
        "X_test=sc.transform(X_test)"
      ],
      "metadata": {
        "id": "iIX-7gBmfMxe"
      },
      "execution_count": 12,
      "outputs": []
    },
    {
      "cell_type": "markdown",
      "source": [
        "## Model implementations:"
      ],
      "metadata": {
        "id": "Rg0eLdkRyhJ3"
      }
    },
    {
      "cell_type": "code",
      "source": [
        "from sklearn.linear_model import LogisticRegression\n",
        "from sklearn.svm import SVC\n",
        "from sklearn.neighbors import KNeighborsClassifier\n",
        "from sklearn.naive_bayes import GaussianNB\n",
        "from sklearn.tree import DecisionTreeClassifier\n",
        "from sklearn.ensemble import RandomForestClassifier\n",
        "from sklearn.metrics import confusion_matrix,accuracy_score,f1_score,recall_score,precision_score,roc_auc_score"
      ],
      "metadata": {
        "id": "WFxwnfKG4Xj1"
      },
      "execution_count": 13,
      "outputs": []
    },
    {
      "cell_type": "code",
      "source": [
        "def models(model ,X_train,X_test,y_train,t_test):\n",
        "  model.fit(X_train,y_train)\n",
        "  y_pred=model.predict(X_test)\n",
        "\n",
        "  accuracy_sc=accuracy_score(y_test,y_pred)\n",
        "  precision_sc_micro=precision_score(y_test,y_pred,average='micro')\n",
        "  precision_sc_macro=precision_score(y_test,y_pred,average='macro')\n",
        "  recall_sc_micro=recall_score(y_test,y_pred,average='micro')\n",
        "  recall_sc_macro=recall_score(y_test,y_pred,average='macro')\n",
        "  f1_sc_micro=f1_score(y_test,y_pred,average='micro')\n",
        "  f1_sc_macro=f1_score(y_test,y_pred,average='macro')\n",
        "\n",
        "  conf_matrix=confusion_matrix(y_test,y_pred)\n",
        "  sns.heatmap(conf_matrix,annot=True)\n",
        "  plt.title('confusion matrix')\n",
        "  plt.show()\n",
        "\n",
        "  return [accuracy_sc,precision_sc_micro,precision_sc_macro,recall_sc_micro,recall_sc_macro,f1_sc_micro,f1_sc_macro]\n",
        "\n"
      ],
      "metadata": {
        "id": "Zk4Cuo985aBW"
      },
      "execution_count": 14,
      "outputs": []
    },
    {
      "cell_type": "code",
      "source": [
        "score = pd.DataFrame(index = [\"accuracy_sc\",\"precision_sc_micro\",\"precision_sc_macro\",\"recall_sc_micro\",\"recall_sc_macro\",\"f1_sc_micro\",\"f1_sc_macro\",])\n"
      ],
      "metadata": {
        "id": "_QBnEy8t7DW0"
      },
      "execution_count": 15,
      "outputs": []
    },
    {
      "cell_type": "markdown",
      "source": [
        "## Model-1 Logistics Regression"
      ],
      "metadata": {
        "id": "leel0QSdGO-5"
      }
    },
    {
      "cell_type": "code",
      "source": [
        "classifier=LogisticRegression(fit_intercept=True)\n",
        "score['Logistic Regression']=models(classifier,X_train,X_test,y_train,y_test)\n",
        "print(score)"
      ],
      "metadata": {
        "colab": {
          "base_uri": "https://localhost:8080/",
          "height": 591
        },
        "id": "MngoDBjoGUfn",
        "outputId": "a6948ded-9db5-443a-ca01-67822f58ea10"
      },
      "execution_count": 16,
      "outputs": [
        {
          "output_type": "display_data",
          "data": {
            "text/plain": [
              "<Figure size 640x480 with 2 Axes>"
            ],
            "image/png": "[encoded data removed]"
          },
          "metadata": {}
        },
        {
          "output_type": "stream",
          "name": "stdout",
          "text": [
            "                    Logistic Regression\n",
            "accuracy_sc                    0.888889\n",
            "precision_sc_micro             0.888889\n",
            "precision_sc_macro             0.902924\n",
            "recall_sc_micro                0.888889\n",
            "recall_sc_macro                0.900463\n",
            "f1_sc_micro                    0.888889\n",
            "f1_sc_macro                    0.901192\n"
          ]
        }
      ]
    },
    {
      "cell_type": "markdown",
      "source": [
        "## Cross-validation & hyper parameter Tuning"
      ],
      "metadata": {
        "id": "qdz4aj-4GABy"
      }
    },
    {
      "cell_type": "code",
      "source": [
        "from sklearn.model_selection import GridSearchCV,RepeatedStratifiedKFold"
      ],
      "metadata": {
        "id": "TDeVF2ZPL-fD"
      },
      "execution_count": 17,
      "outputs": []
    },
    {
      "cell_type": "code",
      "source": [
        "grid_para=[{'C': [100,10,1,0.1,0.01,0.001,0.0001],\n",
        "              'penalty': ['l1',],\n",
        "              'solver':[  'liblinear', 'saga']\n",
        "            }\n",
        "           ,{'C': [100,10,1,0.1,0.01,0.001,0.0001],\n",
        "              'penalty': ['l2'],\n",
        "              'solver':['newton-cg', 'lbfgs', 'liblinear', 'sag', 'saga']}]\n",
        "classifier=LogisticRegression(max_iter=1000)\n",
        "\n",
        "grid_search = GridSearchCV(estimator = classifier,\n",
        "                           param_grid = grid_para,\n",
        "                           scoring = 'accuracy',\n",
        "                           cv = 10,\n",
        "                           n_jobs = -1,error_score='raise')\n",
        "grid_search.fit(X_train, y_train)\n",
        "best_accuracy = grid_search.best_score_\n",
        "best_parameters = grid_search.best_params_\n",
        "print(\"Best Accuracy: {:.2f} %\".format(best_accuracy*100))\n",
        "print(\"Best Parameters:\", best_parameters)"
      ],
      "metadata": {
        "colab": {
          "base_uri": "https://localhost:8080/"
        },
        "id": "U_uh4f0fF12N",
        "outputId": "06f9ccbb-0570-4701-e84c-be5beb82eb0e"
      },
      "execution_count": 18,
      "outputs": [
        {
          "output_type": "stream",
          "name": "stdout",
          "text": [
            "Best Accuracy: 98.18 %\n",
            "Best Parameters: {'C': 10, 'penalty': 'l1', 'solver': 'saga'}\n"
          ]
        }
      ]
    },
    {
      "cell_type": "code",
      "source": [
        "classifier=LogisticRegression(C= 10, penalty= 'l1', solver= 'saga')\n",
        "score['Logistic Regression optimized']=models(classifier,X_train,X_test,y_train,y_test)\n",
        "print(score)"
      ],
      "metadata": {
        "colab": {
          "base_uri": "https://localhost:8080/",
          "height": 626
        },
        "id": "kzStGtUSSzlN",
        "outputId": "7c55de53-4671-4759-fc80-e3955d372ad8"
      },
      "execution_count": 19,
      "outputs": [
        {
          "output_type": "stream",
          "name": "stderr",
          "text": [
            "/usr/local/lib/python3.10/dist-packages/sklearn/linear_model/_sag.py:350: ConvergenceWarning: The max_iter was reached which means the coef_ did not converge\n",
            "  warnings.warn(\n"
          ]
        },
        {
          "output_type": "display_data",
          "data": {
            "text/plain": [
              "<Figure size 640x480 with 2 Axes>"
            ],
            "image/png": "[encoded data removed]"
          },
          "metadata": {}
        },
        {
          "output_type": "stream",
          "name": "stdout",
          "text": [
            "                    Logistic Regression  Logistic Regression optimized\n",
            "accuracy_sc                    0.888889                       0.911111\n",
            "precision_sc_micro             0.888889                       0.911111\n",
            "precision_sc_macro             0.902924                       0.921296\n",
            "recall_sc_micro                0.888889                       0.911111\n",
            "recall_sc_macro                0.900463                       0.921296\n",
            "f1_sc_micro                    0.888889                       0.911111\n",
            "f1_sc_macro                    0.901192                       0.921296\n"
          ]
        }
      ]
    },
    {
      "cell_type": "markdown",
      "source": [
        "## Model -2 SVM(Support Vector Machine)"
      ],
      "metadata": {
        "id": "rxfwsypDsOEa"
      }
    },
    {
      "cell_type": "code",
      "source": [
        "classifier=SVC(kernel='rbf',random_state=0)\n",
        "score['SVM']=models(classifier,X_train,X_test,y_train,y_test)\n",
        "print(score)"
      ],
      "metadata": {
        "colab": {
          "base_uri": "https://localhost:8080/",
          "height": 747
        },
        "id": "2JDZ6Z1asdT1",
        "outputId": "cc42c256-45bb-428c-b8f6-8b5ecaea4d97"
      },
      "execution_count": 25,
      "outputs": [
        {
          "output_type": "display_data",
          "data": {
            "text/plain": [
              "<Figure size 640x480 with 2 Axes>"
            ],
            "image/png": "[encoded data removed]"
          },
          "metadata": {}
        },
        {
          "output_type": "stream",
          "name": "stdout",
          "text": [
            "                    Logistic Regression  Logistic Regression optimized  \\\n",
            "accuracy_sc                    0.888889                       0.911111   \n",
            "precision_sc_micro             0.888889                       0.911111   \n",
            "precision_sc_macro             0.902924                       0.921296   \n",
            "recall_sc_micro                0.888889                       0.911111   \n",
            "recall_sc_macro                0.900463                       0.921296   \n",
            "f1_sc_micro                    0.888889                       0.911111   \n",
            "f1_sc_macro                    0.901192                       0.921296   \n",
            "\n",
            "                         SVM  SVM_optimized  \n",
            "accuracy_sc         0.888889       0.911111  \n",
            "precision_sc_micro  0.888889       0.911111  \n",
            "precision_sc_macro  0.902924       0.921296  \n",
            "recall_sc_micro     0.888889       0.911111  \n",
            "recall_sc_macro     0.900463       0.921296  \n",
            "f1_sc_micro         0.888889       0.911111  \n",
            "f1_sc_macro         0.901192       0.921296  \n"
          ]
        }
      ]
    },
    {
      "cell_type": "markdown",
      "source": [
        "### Cross- Validation & Hyperparameter Tuning"
      ],
      "metadata": {
        "id": "_H4gQ3KWszMW"
      }
    },
    {
      "cell_type": "code",
      "source": [
        "parameters = [{'C': [0.25, 0.5, 0.75, 1], 'kernel': ['linear']},\n",
        "              {'C': [0.25, 0.5, 0.75, 1], 'kernel': ['poly', 'rbf', 'sigmoid'], 'gamma': [0.1, 0.2, 0.3, 0.4, 0.5, 0.6, 0.7, 0.8, 0.9]}]\n",
        "classifier=SVC(random_state=0)\n",
        "grid_search = GridSearchCV(estimator = classifier,\n",
        "                           param_grid = parameters,\n",
        "                           scoring = 'accuracy',\n",
        "                           cv = 10,\n",
        "                           n_jobs = -1)\n",
        "grid_search.fit(X_train, y_train)\n",
        "best_accuracy = grid_search.best_score_\n",
        "best_parameters = grid_search.best_params_\n",
        "print(\"Best Accuracy: {:.2f} %\".format(best_accuracy*100))\n",
        "print(\"Best Parameters:\", best_parameters)"
      ],
      "metadata": {
        "colab": {
          "base_uri": "https://localhost:8080/"
        },
        "id": "xx75k8Sjs85k",
        "outputId": "ec39ae9c-baf6-4dba-e45c-d1fbd2f21a2d"
      },
      "execution_count": 22,
      "outputs": [
        {
          "output_type": "stream",
          "name": "stdout",
          "text": [
            "Best Accuracy: 99.09 %\n",
            "Best Parameters: {'C': 0.25, 'kernel': 'linear'}\n"
          ]
        }
      ]
    },
    {
      "cell_type": "code",
      "source": [
        "classifier=SVC(C=0.25 ,kernel='linear',random_state=0)\n",
        "score['SVM_optimized']=models(classifier,X_train,X_test,y_train,y_test)\n",
        "print(score)"
      ],
      "metadata": {
        "colab": {
          "base_uri": "https://localhost:8080/",
          "height": 747
        },
        "id": "FaQlb6LXtg4N",
        "outputId": "04c23d24-edee-4a08-d2e3-7fe729a80ac0"
      },
      "execution_count": 29,
      "outputs": [
        {
          "output_type": "display_data",
          "data": {
            "text/plain": [
              "<Figure size 640x480 with 2 Axes>"
            ],
            "image/png": "[encoded data removed]"
          },
          "metadata": {}
        },
        {
          "output_type": "stream",
          "name": "stdout",
          "text": [
            "                    Logistic Regression  Logistic Regression optimized  \\\n",
            "accuracy_sc                    0.888889                       0.911111   \n",
            "precision_sc_micro             0.888889                       0.911111   \n",
            "precision_sc_macro             0.902924                       0.921296   \n",
            "recall_sc_micro                0.888889                       0.911111   \n",
            "recall_sc_macro                0.900463                       0.921296   \n",
            "f1_sc_micro                    0.888889                       0.911111   \n",
            "f1_sc_macro                    0.901192                       0.921296   \n",
            "\n",
            "                         SVM  SVM_optimized  SVM_optimizd  \n",
            "accuracy_sc         0.888889       0.911111      0.911111  \n",
            "precision_sc_micro  0.888889       0.911111      0.911111  \n",
            "precision_sc_macro  0.902924       0.921296      0.921296  \n",
            "recall_sc_micro     0.888889       0.911111      0.911111  \n",
            "recall_sc_macro     0.900463       0.921296      0.921296  \n",
            "f1_sc_micro         0.888889       0.911111      0.911111  \n",
            "f1_sc_macro         0.901192       0.921296      0.921296  \n"
          ]
        }
      ]
    },
    {
      "cell_type": "code",
      "source": [
        "score.drop([\"SVM_optimizd\"], axis=1)"
      ],
      "metadata": {
        "colab": {
          "base_uri": "https://localhost:8080/",
          "height": 269
        },
        "id": "6964cSETusPf",
        "outputId": "fc895599-4f34-45e2-898a-11755a089c69"
      },
      "execution_count": 35,
      "outputs": [
        {
          "output_type": "execute_result",
          "data": {
            "text/plain": [
              "                    Logistic Regression  Logistic Regression optimized  \\\n",
              "accuracy_sc                    0.888889                       0.911111   \n",
              "precision_sc_micro             0.888889                       0.911111   \n",
              "precision_sc_macro             0.902924                       0.921296   \n",
              "recall_sc_micro                0.888889                       0.911111   \n",
              "recall_sc_macro                0.900463                       0.921296   \n",
              "f1_sc_micro                    0.888889                       0.911111   \n",
              "f1_sc_macro                    0.901192                       0.921296   \n",
              "\n",
              "                         SVM  SVM_optimized  \n",
              "accuracy_sc         0.888889       0.911111  \n",
              "precision_sc_micro  0.888889       0.911111  \n",
              "precision_sc_macro  0.902924       0.921296  \n",
              "recall_sc_micro     0.888889       0.911111  \n",
              "recall_sc_macro     0.900463       0.921296  \n",
              "f1_sc_micro         0.888889       0.911111  \n",
              "f1_sc_macro         0.901192       0.921296  "
            ],
            "text/html": [
              "\n",
              "  <div id=\"df-6b6b59b3-71de-4406-b871-8bac3e784c35\" class=\"colab-df-container\">\n",
              "    <div>\n",
              "<style scoped>\n",
              "    .dataframe tbody tr th:only-of-type {\n",
              "        vertical-align: middle;\n",
              "    }\n",
              "\n",
              "    .dataframe tbody tr th {\n",
              "        vertical-align: top;\n",
              "    }\n",
              "\n",
              "    .dataframe thead th {\n",
              "        text-align: right;\n",
              "    }\n",
              "</style>\n",
              "<table border=\"1\" class=\"dataframe\">\n",
              "  <thead>\n",
              "    <tr style=\"text-align: right;\">\n",
              "      <th></th>\n",
              "      <th>Logistic Regression</th>\n",
              "      <th>Logistic Regression optimized</th>\n",
              "      <th>SVM</th>\n",
              "      <th>SVM_optimized</th>\n",
              "    </tr>\n",
              "  </thead>\n",
              "  <tbody>\n",
              "    <tr>\n",
              "      <th>accuracy_sc</th>\n",
              "      <td>0.888889</td>\n",
              "      <td>0.911111</td>\n",
              "      <td>0.888889</td>\n",
              "      <td>0.911111</td>\n",
              "    </tr>\n",
              "    <tr>\n",
              "      <th>precision_sc_micro</th>\n",
              "      <td>0.888889</td>\n",
              "      <td>0.911111</td>\n",
              "      <td>0.888889</td>\n",
              "      <td>0.911111</td>\n",
              "    </tr>\n",
              "    <tr>\n",
              "      <th>precision_sc_macro</th>\n",
              "      <td>0.902924</td>\n",
              "      <td>0.921296</td>\n",
              "      <td>0.902924</td>\n",
              "      <td>0.921296</td>\n",
              "    </tr>\n",
              "    <tr>\n",
              "      <th>recall_sc_micro</th>\n",
              "      <td>0.888889</td>\n",
              "      <td>0.911111</td>\n",
              "      <td>0.888889</td>\n",
              "      <td>0.911111</td>\n",
              "    </tr>\n",
              "    <tr>\n",
              "      <th>recall_sc_macro</th>\n",
              "      <td>0.900463</td>\n",
              "      <td>0.921296</td>\n",
              "      <td>0.900463</td>\n",
              "      <td>0.921296</td>\n",
              "    </tr>\n",
              "    <tr>\n",
              "      <th>f1_sc_micro</th>\n",
              "      <td>0.888889</td>\n",
              "      <td>0.911111</td>\n",
              "      <td>0.888889</td>\n",
              "      <td>0.911111</td>\n",
              "    </tr>\n",
              "    <tr>\n",
              "      <th>f1_sc_macro</th>\n",
              "      <td>0.901192</td>\n",
              "      <td>0.921296</td>\n",
              "      <td>0.901192</td>\n",
              "      <td>0.921296</td>\n",
              "    </tr>\n",
              "  </tbody>\n",
              "</table>\n",
              "</div>\n",
              "    <div class=\"colab-df-buttons\">\n",
              "\n",
              "  <div class=\"colab-df-container\">\n",
              "    <button class=\"colab-df-convert\" onclick=\"convertToInteractive('df-6b6b59b3-71de-4406-b871-8bac3e784c35')\"\n",
              "            title=\"Convert this dataframe to an interactive table.\"\n",
              "            style=\"display:none;\">\n",
              "\n",
              "  <svg xmlns=\"http://www.w3.org/2000/svg\" height=\"24px\" viewBox=\"0 -960 960 960\">\n",
              "    <path d=\"M120-120v-720h720v720H120Zm60-500h600v-160H180v160Zm220 220h160v-160H400v160Zm0 220h160v-160H400v160ZM180-400h160v-160H180v160Zm440 0h160v-160H620v160ZM180-180h160v-160H180v160Zm440 0h160v-160H620v160Z\"/>\n",
              "  </svg>\n",
              "    </button>\n",
              "\n",
              "  <style>\n",
              "    .colab-df-container {\n",
              "      display:flex;\n",
              "      gap: 12px;\n",
              "    }\n",
              "\n",
              "    .colab-df-convert {\n",
              "      background-color: #E8F0FE;\n",
              "      border: none;\n",
              "      border-radius: 50%;\n",
              "      cursor: pointer;\n",
              "      display: none;\n",
              "      fill: #1967D2;\n",
              "      height: 32px;\n",
              "      padding: 0 0 0 0;\n",
              "      width: 32px;\n",
              "    }\n",
              "\n",
              "    .colab-df-convert:hover {\n",
              "      background-color: #E2EBFA;\n",
              "      box-shadow: 0px 1px 2px rgba(60, 64, 67, 0.3), 0px 1px 3px 1px rgba(60, 64, 67, 0.15);\n",
              "      fill: #174EA6;\n",
              "    }\n",
              "\n",
              "    .colab-df-buttons div {\n",
              "      margin-bottom: 4px;\n",
              "    }\n",
              "\n",
              "    [theme=dark] .colab-df-convert {\n",
              "      background-color: #3B4455;\n",
              "      fill: #D2E3FC;\n",
              "    }\n",
              "\n",
              "    [theme=dark] .colab-df-convert:hover {\n",
              "      background-color: #434B5C;\n",
              "      box-shadow: 0px 1px 3px 1px rgba(0, 0, 0, 0.15);\n",
              "      filter: drop-shadow(0px 1px 2px rgba(0, 0, 0, 0.3));\n",
              "      fill: #FFFFFF;\n",
              "    }\n",
              "  </style>\n",
              "\n",
              "    <script>\n",
              "      const buttonEl =\n",
              "        document.querySelector('#df-6b6b59b3-71de-4406-b871-8bac3e784c35 button.colab-df-convert');\n",
              "      buttonEl.style.display =\n",
              "        google.colab.kernel.accessAllowed ? 'block' : 'none';\n",
              "\n",
              "      async function convertToInteractive(key) {\n",
              "        const element = document.querySelector('#df-6b6b59b3-71de-4406-b871-8bac3e784c35');\n",
              "        const dataTable =\n",
              "          await google.colab.kernel.invokeFunction('convertToInteractive',\n",
              "                                                    [key], {});\n",
              "        if (!dataTable) return;\n",
              "\n",
              "        const docLinkHtml = 'Like what you see? Visit the ' +\n",
              "          '<a target=\"_blank\" href=https://colab.research.google.com/notebooks/data_table.ipynb>data table notebook</a>'\n",
              "          + ' to learn more about interactive tables.';\n",
              "        element.innerHTML = '';\n",
              "        dataTable['output_type'] = 'display_data';\n",
              "        await google.colab.output.renderOutput(dataTable, element);\n",
              "        const docLink = document.createElement('div');\n",
              "        docLink.innerHTML = docLinkHtml;\n",
              "        element.appendChild(docLink);\n",
              "      }\n",
              "    </script>\n",
              "  </div>\n",
              "\n",
              "\n",
              "<div id=\"df-2c3ccca2-a1a3-4799-9d4e-7a48d9a27a74\">\n",
              "  <button class=\"colab-df-quickchart\" onclick=\"quickchart('df-2c3ccca2-a1a3-4799-9d4e-7a48d9a27a74')\"\n",
              "            title=\"Suggest charts\"\n",
              "            style=\"display:none;\">\n",
              "\n",
              "<svg xmlns=\"http://www.w3.org/2000/svg\" height=\"24px\"viewBox=\"0 0 24 24\"\n",
              "     width=\"24px\">\n",
              "    <g>\n",
              "        <path d=\"M19 3H5c-1.1 0-2 .9-2 2v14c0 1.1.9 2 2 2h14c1.1 0 2-.9 2-2V5c0-1.1-.9-2-2-2zM9 17H7v-7h2v7zm4 0h-2V7h2v10zm4 0h-2v-4h2v4z\"/>\n",
              "    </g>\n",
              "</svg>\n",
              "  </button>\n",
              "\n",
              "<style>\n",
              "  .colab-df-quickchart {\n",
              "      --bg-color: #E8F0FE;\n",
              "      --fill-color: #1967D2;\n",
              "      --hover-bg-color: #E2EBFA;\n",
              "      --hover-fill-color: #174EA6;\n",
              "      --disabled-fill-color: #AAA;\n",
              "      --disabled-bg-color: #DDD;\n",
              "  }\n",
              "\n",
              "  [theme=dark] .colab-df-quickchart {\n",
              "      --bg-color: #3B4455;\n",
              "      --fill-color: #D2E3FC;\n",
              "      --hover-bg-color: #434B5C;\n",
              "      --hover-fill-color: #FFFFFF;\n",
              "      --disabled-bg-color: #3B4455;\n",
              "      --disabled-fill-color: #666;\n",
              "  }\n",
              "\n",
              "  .colab-df-quickchart {\n",
              "    background-color: var(--bg-color);\n",
              "    border: none;\n",
              "    border-radius: 50%;\n",
              "    cursor: pointer;\n",
              "    display: none;\n",
              "    fill: var(--fill-color);\n",
              "    height: 32px;\n",
              "    padding: 0;\n",
              "    width: 32px;\n",
              "  }\n",
              "\n",
              "  .colab-df-quickchart:hover {\n",
              "    background-color: var(--hover-bg-color);\n",
              "    box-shadow: 0 1px 2px rgba(60, 64, 67, 0.3), 0 1px 3px 1px rgba(60, 64, 67, 0.15);\n",
              "    fill: var(--button-hover-fill-color);\n",
              "  }\n",
              "\n",
              "  .colab-df-quickchart-complete:disabled,\n",
              "  .colab-df-quickchart-complete:disabled:hover {\n",
              "    background-color: var(--disabled-bg-color);\n",
              "    fill: var(--disabled-fill-color);\n",
              "    box-shadow: none;\n",
              "  }\n",
              "\n",
              "  .colab-df-spinner {\n",
              "    border: 2px solid var(--fill-color);\n",
              "    border-color: transparent;\n",
              "    border-bottom-color: var(--fill-color);\n",
              "    animation:\n",
              "      spin 1s steps(1) infinite;\n",
              "  }\n",
              "\n",
              "  @keyframes spin {\n",
              "    0% {\n",
              "      border-color: transparent;\n",
              "      border-bottom-color: var(--fill-color);\n",
              "      border-left-color: var(--fill-color);\n",
              "    }\n",
              "    20% {\n",
              "      border-color: transparent;\n",
              "      border-left-color: var(--fill-color);\n",
              "      border-top-color: var(--fill-color);\n",
              "    }\n",
              "    30% {\n",
              "      border-color: transparent;\n",
              "      border-left-color: var(--fill-color);\n",
              "      border-top-color: var(--fill-color);\n",
              "      border-right-color: var(--fill-color);\n",
              "    }\n",
              "    40% {\n",
              "      border-color: transparent;\n",
              "      border-right-color: var(--fill-color);\n",
              "      border-top-color: var(--fill-color);\n",
              "    }\n",
              "    60% {\n",
              "      border-color: transparent;\n",
              "      border-right-color: var(--fill-color);\n",
              "    }\n",
              "    80% {\n",
              "      border-color: transparent;\n",
              "      border-right-color: var(--fill-color);\n",
              "      border-bottom-color: var(--fill-color);\n",
              "    }\n",
              "    90% {\n",
              "      border-color: transparent;\n",
              "      border-bottom-color: var(--fill-color);\n",
              "    }\n",
              "  }\n",
              "</style>\n",
              "\n",
              "  <script>\n",
              "    async function quickchart(key) {\n",
              "      const quickchartButtonEl =\n",
              "        document.querySelector('#' + key + ' button');\n",
              "      quickchartButtonEl.disabled = true;  // To prevent multiple clicks.\n",
              "      quickchartButtonEl.classList.add('colab-df-spinner');\n",
              "      try {\n",
              "        const charts = await google.colab.kernel.invokeFunction(\n",
              "            'suggestCharts', [key], {});\n",
              "      } catch (error) {\n",
              "        console.error('Error during call to suggestCharts:', error);\n",
              "      }\n",
              "      quickchartButtonEl.classList.remove('colab-df-spinner');\n",
              "      quickchartButtonEl.classList.add('colab-df-quickchart-complete');\n",
              "    }\n",
              "    (() => {\n",
              "      let quickchartButtonEl =\n",
              "        document.querySelector('#df-2c3ccca2-a1a3-4799-9d4e-7a48d9a27a74 button');\n",
              "      quickchartButtonEl.style.display =\n",
              "        google.colab.kernel.accessAllowed ? 'block' : 'none';\n",
              "    })();\n",
              "  </script>\n",
              "</div>\n",
              "\n",
              "    </div>\n",
              "  </div>\n"
            ],
            "application/vnd.google.colaboratory.intrinsic+json": {
              "type": "dataframe",
              "summary": "{\n  \"name\": \"score\",\n  \"rows\": 7,\n  \"fields\": [\n    {\n      \"column\": \"Logistic Regression\",\n      \"properties\": {\n        \"dtype\": \"number\",\n        \"std\": 0.0067942178864841204,\n        \"min\": 0.8888888888888888,\n        \"max\": 0.9029239766081871,\n        \"num_unique_values\": 4,\n        \"samples\": [\n          0.9029239766081871,\n          0.90119151409474,\n          0.8888888888888888\n        ],\n        \"semantic_type\": \"\",\n        \"description\": \"\"\n      }\n    },\n    {\n      \"column\": \"Logistic Regression optimized\",\n      \"properties\": {\n        \"dtype\": \"number\",\n        \"std\": 0.005444210483401238,\n        \"min\": 0.9111111111111111,\n        \"max\": 0.9212962962962963,\n        \"num_unique_values\": 2,\n        \"samples\": [\n          0.9212962962962963,\n          0.9111111111111111\n        ],\n        \"semantic_type\": \"\",\n        \"description\": \"\"\n      }\n    },\n    {\n      \"column\": \"SVM\",\n      \"properties\": {\n        \"dtype\": \"number\",\n        \"std\": 0.0067942178864841204,\n        \"min\": 0.8888888888888888,\n        \"max\": 0.9029239766081871,\n        \"num_unique_values\": 4,\n        \"samples\": [\n          0.9029239766081871,\n          0.90119151409474\n        ],\n        \"semantic_type\": \"\",\n        \"description\": \"\"\n      }\n    },\n    {\n      \"column\": \"SVM_optimized\",\n      \"properties\": {\n        \"dtype\": \"number\",\n        \"std\": 0.005444210483401238,\n        \"min\": 0.9111111111111111,\n        \"max\": 0.9212962962962963,\n        \"num_unique_values\": 2,\n        \"samples\": [\n          0.9212962962962963,\n          0.9111111111111111\n        ],\n        \"semantic_type\": \"\",\n        \"description\": \"\"\n      }\n    }\n  ]\n}"
            }
          },
          "metadata": {},
          "execution_count": 35
        }
      ]
    },
    {
      "cell_type": "markdown",
      "source": [],
      "metadata": {
        "id": "JCr1-cUNxVcZ"
      }
    },
    {
      "cell_type": "markdown",
      "source": [
        "## Model-3 KNN"
      ],
      "metadata": {
        "id": "mEBgFmehxcIm"
      }
    },
    {
      "cell_type": "code",
      "source": [
        "classifier=KNeighborsClassifier(n_neighbors=5)\n",
        "score['KNN']=models(classifier,X_train,X_test,y_train,y_test)\n",
        "print(score)"
      ],
      "metadata": {
        "colab": {
          "base_uri": "https://localhost:8080/",
          "height": 747
        },
        "id": "vkfjtI3ox9TS",
        "outputId": "0bd35137-4dee-41b3-996e-60dc22dae777"
      },
      "execution_count": 36,
      "outputs": [
        {
          "output_type": "display_data",
          "data": {
            "text/plain": [
              "<Figure size 640x480 with 2 Axes>"
            ],
            "image/png": "[encoded data removed]"
          },
          "metadata": {}
        },
        {
          "output_type": "stream",
          "name": "stdout",
          "text": [
            "                    Logistic Regression  Logistic Regression optimized  \\\n",
            "accuracy_sc                    0.888889                       0.911111   \n",
            "precision_sc_micro             0.888889                       0.911111   \n",
            "precision_sc_macro             0.902924                       0.921296   \n",
            "recall_sc_micro                0.888889                       0.911111   \n",
            "recall_sc_macro                0.900463                       0.921296   \n",
            "f1_sc_micro                    0.888889                       0.911111   \n",
            "f1_sc_macro                    0.901192                       0.921296   \n",
            "\n",
            "                         SVM  SVM_optimized  SVM_optimizd       KNN  \n",
            "accuracy_sc         0.888889       0.911111      0.911111  0.844444  \n",
            "precision_sc_micro  0.888889       0.911111      0.911111  0.844444  \n",
            "precision_sc_macro  0.902924       0.921296      0.921296  0.862745  \n",
            "recall_sc_micro     0.888889       0.911111      0.911111  0.844444  \n",
            "recall_sc_macro     0.900463       0.921296      0.921296  0.863426  \n",
            "f1_sc_micro         0.888889       0.911111      0.911111  0.844444  \n",
            "f1_sc_macro         0.901192       0.921296      0.921296  0.862626  \n"
          ]
        }
      ]
    },
    {
      "cell_type": "markdown",
      "source": [
        "###  Cross- Validation & Hyperparameter Tuning"
      ],
      "metadata": {
        "id": "Bty1OHy0yQRT"
      }
    },
    {
      "cell_type": "code",
      "source": [
        "parameters = [{'n_neighbors': [5,7,9,11,15],'algorithm':['auto', 'ball_tree', 'kd_tree', 'brute'],'p':[1,2,3,4]}]\n",
        "classifier=KNeighborsClassifier()\n",
        "grid_search = GridSearchCV(estimator = classifier,\n",
        "                           param_grid = parameters,\n",
        "                           scoring = 'accuracy',\n",
        "                           cv = 10,\n",
        "                           n_jobs = -1)\n",
        "grid_search.fit(X_train, y_train)\n",
        "best_accuracy = grid_search.best_score_\n",
        "best_parameters = grid_search.best_params_\n",
        "print(\"Best Accuracy: {:.2f} %\".format(best_accuracy*100))\n",
        "print(\"Best Parameters:\", best_parameters)"
      ],
      "metadata": {
        "colab": {
          "base_uri": "https://localhost:8080/"
        },
        "id": "bMvkshk1yeRi",
        "outputId": "04bf5a47-4b51-47ff-af05-ef15ede39df5"
      },
      "execution_count": 39,
      "outputs": [
        {
          "output_type": "stream",
          "name": "stdout",
          "text": [
            "Best Accuracy: 100.00 %\n",
            "Best Parameters: {'algorithm': 'auto', 'n_neighbors': 9, 'p': 1}\n"
          ]
        }
      ]
    },
    {
      "cell_type": "code",
      "source": [
        "classifier=KNeighborsClassifier(n_neighbors=9,algorithm='auto',p=1)\n",
        "score['KNN_optimized']=models(classifier,X_train,X_test,y_train,y_test)\n",
        "print(score)"
      ],
      "metadata": {
        "colab": {
          "base_uri": "https://localhost:8080/",
          "height": 903
        },
        "id": "onDPUBQpz-LA",
        "outputId": "be870fb7-d5d8-44c6-85cb-f91eaf415f1d"
      },
      "execution_count": 41,
      "outputs": [
        {
          "output_type": "display_data",
          "data": {
            "text/plain": [
              "<Figure size 640x480 with 2 Axes>"
            ],
            "image/png": "[encoded data removed]"
          },
          "metadata": {}
        },
        {
          "output_type": "stream",
          "name": "stdout",
          "text": [
            "                    Logistic Regression  Logistic Regression optimized  \\\n",
            "accuracy_sc                    0.888889                       0.911111   \n",
            "precision_sc_micro             0.888889                       0.911111   \n",
            "precision_sc_macro             0.902924                       0.921296   \n",
            "recall_sc_micro                0.888889                       0.911111   \n",
            "recall_sc_macro                0.900463                       0.921296   \n",
            "f1_sc_micro                    0.888889                       0.911111   \n",
            "f1_sc_macro                    0.901192                       0.921296   \n",
            "\n",
            "                         SVM  SVM_optimized  SVM_optimizd       KNN  \\\n",
            "accuracy_sc         0.888889       0.911111      0.911111  0.844444   \n",
            "precision_sc_micro  0.888889       0.911111      0.911111  0.844444   \n",
            "precision_sc_macro  0.902924       0.921296      0.921296  0.862745   \n",
            "recall_sc_micro     0.888889       0.911111      0.911111  0.844444   \n",
            "recall_sc_macro     0.900463       0.921296      0.921296  0.863426   \n",
            "f1_sc_micro         0.888889       0.911111      0.911111  0.844444   \n",
            "f1_sc_macro         0.901192       0.921296      0.921296  0.862626   \n",
            "\n",
            "                    KNN_optimized  \n",
            "accuracy_sc              0.888889  \n",
            "precision_sc_micro       0.888889  \n",
            "precision_sc_macro       0.902924  \n",
            "recall_sc_micro          0.888889  \n",
            "recall_sc_macro          0.900463  \n",
            "f1_sc_micro              0.888889  \n",
            "f1_sc_macro              0.901192  \n"
          ]
        }
      ]
    },
    {
      "cell_type": "markdown",
      "source": [
        "##Model-4 Decision Tree"
      ],
      "metadata": {
        "id": "_CTINi9x0Xmz"
      }
    },
    {
      "cell_type": "code",
      "source": [
        "classifier=DecisionTreeClassifier(criterion='entropy',random_state=0)\n",
        "score['Decision Tree']=models(classifier,X_train,X_test,y_train,y_test)\n",
        "print(score)"
      ],
      "metadata": {
        "colab": {
          "base_uri": "https://localhost:8080/",
          "height": 903
        },
        "id": "70RiDIPM0tO0",
        "outputId": "2a3b9295-c5a7-47b4-80a8-dffde5bdbaf6"
      },
      "execution_count": 42,
      "outputs": [
        {
          "output_type": "display_data",
          "data": {
            "text/plain": [
              "<Figure size 640x480 with 2 Axes>"
            ],
            "image/png": "[encoded data removed]"
          },
          "metadata": {}
        },
        {
          "output_type": "stream",
          "name": "stdout",
          "text": [
            "                    Logistic Regression  Logistic Regression optimized  \\\n",
            "accuracy_sc                    0.888889                       0.911111   \n",
            "precision_sc_micro             0.888889                       0.911111   \n",
            "precision_sc_macro             0.902924                       0.921296   \n",
            "recall_sc_micro                0.888889                       0.911111   \n",
            "recall_sc_macro                0.900463                       0.921296   \n",
            "f1_sc_micro                    0.888889                       0.911111   \n",
            "f1_sc_macro                    0.901192                       0.921296   \n",
            "\n",
            "                         SVM  SVM_optimized  SVM_optimizd       KNN  \\\n",
            "accuracy_sc         0.888889       0.911111      0.911111  0.844444   \n",
            "precision_sc_micro  0.888889       0.911111      0.911111  0.844444   \n",
            "precision_sc_macro  0.902924       0.921296      0.921296  0.862745   \n",
            "recall_sc_micro     0.888889       0.911111      0.911111  0.844444   \n",
            "recall_sc_macro     0.900463       0.921296      0.921296  0.863426   \n",
            "f1_sc_micro         0.888889       0.911111      0.911111  0.844444   \n",
            "f1_sc_macro         0.901192       0.921296      0.921296  0.862626   \n",
            "\n",
            "                    KNN_optimized  Decision Tree  \n",
            "accuracy_sc              0.888889       0.911111  \n",
            "precision_sc_micro       0.888889       0.911111  \n",
            "precision_sc_macro       0.902924       0.926190  \n",
            "recall_sc_micro          0.888889       0.911111  \n",
            "recall_sc_macro          0.900463       0.918981  \n",
            "f1_sc_micro              0.888889       0.911111  \n",
            "f1_sc_macro              0.901192       0.920468  \n"
          ]
        }
      ]
    },
    {
      "cell_type": "markdown",
      "source": [
        "###  Cross- Validation & Hyperparameter Tuning"
      ],
      "metadata": {
        "id": "P_O2bWRC09WK"
      }
    },
    {
      "cell_type": "code",
      "source": [
        "parameters = [{'criterion':['gini', 'entropy', 'log_loss'] , 'splitter':['best', 'random']}]\n",
        "classifier=DecisionTreeClassifier()\n",
        "grid_search = GridSearchCV(estimator = classifier,\n",
        "                           param_grid = parameters,\n",
        "                           scoring = 'accuracy',\n",
        "                           cv = 10,\n",
        "                           n_jobs = -1)\n",
        "grid_search.fit(X_train, y_train)\n",
        "best_accuracy = grid_search.best_score_\n",
        "best_parameters = grid_search.best_params_\n",
        "print(\"Best Accuracy: {:.2f} %\".format(best_accuracy*100))\n",
        "print(\"Best Parameters:\", best_parameters)"
      ],
      "metadata": {
        "colab": {
          "base_uri": "https://localhost:8080/"
        },
        "id": "vxFBf3Ek1KFl",
        "outputId": "02cac37c-d3f4-4c2b-c2f3-a035a8bf0d28"
      },
      "execution_count": 46,
      "outputs": [
        {
          "output_type": "stream",
          "name": "stdout",
          "text": [
            "Best Accuracy: 98.18 %\n",
            "Best Parameters: {'criterion': 'gini', 'splitter': 'best'}\n"
          ]
        }
      ]
    },
    {
      "cell_type": "code",
      "source": [
        "classifier=DecisionTreeClassifier(criterion='log_loss',random_state=0,splitter='random')\n",
        "score['Decision Tree_optimized']=models(classifier,X_train,X_test,y_train,y_test)\n",
        "print(score)"
      ],
      "metadata": {
        "colab": {
          "base_uri": "https://localhost:8080/",
          "height": 903
        },
        "id": "XKzC8Bq122kA",
        "outputId": "23d85c12-9c63-4138-86f7-9e35a1ed856b"
      },
      "execution_count": 44,
      "outputs": [
        {
          "output_type": "display_data",
          "data": {
            "text/plain": [
              "<Figure size 640x480 with 2 Axes>"
            ],
            "image/png": "[encoded data removed]"
          },
          "metadata": {}
        },
        {
          "output_type": "stream",
          "name": "stdout",
          "text": [
            "                    Logistic Regression  Logistic Regression optimized  \\\n",
            "accuracy_sc                    0.888889                       0.911111   \n",
            "precision_sc_micro             0.888889                       0.911111   \n",
            "precision_sc_macro             0.902924                       0.921296   \n",
            "recall_sc_micro                0.888889                       0.911111   \n",
            "recall_sc_macro                0.900463                       0.921296   \n",
            "f1_sc_micro                    0.888889                       0.911111   \n",
            "f1_sc_macro                    0.901192                       0.921296   \n",
            "\n",
            "                         SVM  SVM_optimized  SVM_optimizd       KNN  \\\n",
            "accuracy_sc         0.888889       0.911111      0.911111  0.844444   \n",
            "precision_sc_micro  0.888889       0.911111      0.911111  0.844444   \n",
            "precision_sc_macro  0.902924       0.921296      0.921296  0.862745   \n",
            "recall_sc_micro     0.888889       0.911111      0.911111  0.844444   \n",
            "recall_sc_macro     0.900463       0.921296      0.921296  0.863426   \n",
            "f1_sc_micro         0.888889       0.911111      0.911111  0.844444   \n",
            "f1_sc_macro         0.901192       0.921296      0.921296  0.862626   \n",
            "\n",
            "                    KNN_optimized  Decision Tree  Decision Tree_optimized  \n",
            "accuracy_sc              0.888889       0.911111                 0.911111  \n",
            "precision_sc_micro       0.888889       0.911111                 0.911111  \n",
            "precision_sc_macro       0.902924       0.926190                 0.921296  \n",
            "recall_sc_micro          0.888889       0.911111                 0.911111  \n",
            "recall_sc_macro          0.900463       0.918981                 0.921296  \n",
            "f1_sc_micro              0.888889       0.911111                 0.911111  \n",
            "f1_sc_macro              0.901192       0.920468                 0.921296  \n"
          ]
        }
      ]
    },
    {
      "cell_type": "markdown",
      "source": [
        "Model-5 Random Forest"
      ],
      "metadata": {
        "id": "oZ4wbil33Wt3"
      }
    },
    {
      "cell_type": "code",
      "source": [
        "classifier=RandomForestClassifier(n_estimators=10)\n",
        "score['Random Forest']=models(classifier,X_train,X_test,y_train,y_test)\n",
        "print(score)"
      ],
      "metadata": {
        "colab": {
          "base_uri": "https://localhost:8080/",
          "height": 1000
        },
        "id": "S7JSUr_m3a6A",
        "outputId": "03096999-4adf-4f68-d48f-4ab8851c3fcd"
      },
      "execution_count": 47,
      "outputs": [
        {
          "output_type": "display_data",
          "data": {
            "text/plain": [
              "<Figure size 640x480 with 2 Axes>"
            ],
            "image/png": "[encoded data removed]"
          },
          "metadata": {}
        },
        {
          "output_type": "stream",
          "name": "stdout",
          "text": [
            "                    Logistic Regression  Logistic Regression optimized  \\\n",
            "accuracy_sc                    0.888889                       0.911111   \n",
            "precision_sc_micro             0.888889                       0.911111   \n",
            "precision_sc_macro             0.902924                       0.921296   \n",
            "recall_sc_micro                0.888889                       0.911111   \n",
            "recall_sc_macro                0.900463                       0.921296   \n",
            "f1_sc_micro                    0.888889                       0.911111   \n",
            "f1_sc_macro                    0.901192                       0.921296   \n",
            "\n",
            "                         SVM  SVM_optimized  SVM_optimizd       KNN  \\\n",
            "accuracy_sc         0.888889       0.911111      0.911111  0.844444   \n",
            "precision_sc_micro  0.888889       0.911111      0.911111  0.844444   \n",
            "precision_sc_macro  0.902924       0.921296      0.921296  0.862745   \n",
            "recall_sc_micro     0.888889       0.911111      0.911111  0.844444   \n",
            "recall_sc_macro     0.900463       0.921296      0.921296  0.863426   \n",
            "f1_sc_micro         0.888889       0.911111      0.911111  0.844444   \n",
            "f1_sc_macro         0.901192       0.921296      0.921296  0.862626   \n",
            "\n",
            "                    KNN_optimized  Decision Tree  Decision Tree_optimized  \\\n",
            "accuracy_sc              0.888889       0.911111                 0.911111   \n",
            "precision_sc_micro       0.888889       0.911111                 0.911111   \n",
            "precision_sc_macro       0.902924       0.926190                 0.921296   \n",
            "recall_sc_micro          0.888889       0.911111                 0.911111   \n",
            "recall_sc_macro          0.900463       0.918981                 0.921296   \n",
            "f1_sc_micro              0.888889       0.911111                 0.911111   \n",
            "f1_sc_macro              0.901192       0.920468                 0.921296   \n",
            "\n",
            "                    Random Forest  \n",
            "accuracy_sc              0.911111  \n",
            "precision_sc_micro       0.911111  \n",
            "precision_sc_macro       0.926190  \n",
            "recall_sc_micro          0.911111  \n",
            "recall_sc_macro          0.918981  \n",
            "f1_sc_micro              0.911111  \n",
            "f1_sc_macro              0.920468  \n"
          ]
        }
      ]
    },
    {
      "cell_type": "markdown",
      "source": [
        " ### Cross- Validation & Hyperparameter Tuning"
      ],
      "metadata": {
        "id": "B3WeeaQg3s12"
      }
    },
    {
      "cell_type": "code",
      "source": [
        "parameters = [{'n_estimators':np.arange(10,101),'criterion':['gini', 'entropy', 'log_loss']}]\n",
        "classifier=RandomForestClassifier()\n",
        "grid_search = GridSearchCV(estimator = classifier,\n",
        "                           param_grid = parameters,\n",
        "                           scoring = 'accuracy',\n",
        "                           cv = 10,\n",
        "                           n_jobs = -1)\n",
        "grid_search.fit(X_train, y_train)\n",
        "best_accuracy = grid_search.best_score_\n",
        "best_parameters = grid_search.best_params_\n",
        "print(\"Best Accuracy: {:.2f} %\".format(best_accuracy*100))\n",
        "print(\"Best Parameters:\", best_parameters)"
      ],
      "metadata": {
        "colab": {
          "base_uri": "https://localhost:8080/"
        },
        "id": "Tzg9hlc43xBR",
        "outputId": "5c951d56-8a73-4322-99a1-929999c42b37"
      },
      "execution_count": 50,
      "outputs": [
        {
          "output_type": "stream",
          "name": "stdout",
          "text": [
            "Best Accuracy: 99.09 %\n",
            "Best Parameters: {'criterion': 'gini', 'n_estimators': 17}\n"
          ]
        }
      ]
    },
    {
      "cell_type": "code",
      "source": [
        "classifier=RandomForestClassifier(n_estimators=17,criterion='gini')\n",
        "score['Random Forest_optimized']=models(classifier,X_train,X_test,y_train,y_test)\n",
        "print(score)"
      ],
      "metadata": {
        "colab": {
          "base_uri": "https://localhost:8080/",
          "height": 1000
        },
        "id": "cdayQt2c6fe9",
        "outputId": "64597752-ade0-4bb6-a249-8f64426995a3"
      },
      "execution_count": 51,
      "outputs": [
        {
          "output_type": "display_data",
          "data": {
            "text/plain": [
              "<Figure size 640x480 with 2 Axes>"
            ],
            "image/png": "[encoded data removed]"
          },
          "metadata": {}
        },
        {
          "output_type": "stream",
          "name": "stdout",
          "text": [
            "                    Logistic Regression  Logistic Regression optimized  \\\n",
            "accuracy_sc                    0.888889                       0.911111   \n",
            "precision_sc_micro             0.888889                       0.911111   \n",
            "precision_sc_macro             0.902924                       0.921296   \n",
            "recall_sc_micro                0.888889                       0.911111   \n",
            "recall_sc_macro                0.900463                       0.921296   \n",
            "f1_sc_micro                    0.888889                       0.911111   \n",
            "f1_sc_macro                    0.901192                       0.921296   \n",
            "\n",
            "                         SVM  SVM_optimized  SVM_optimizd       KNN  \\\n",
            "accuracy_sc         0.888889       0.911111      0.911111  0.844444   \n",
            "precision_sc_micro  0.888889       0.911111      0.911111  0.844444   \n",
            "precision_sc_macro  0.902924       0.921296      0.921296  0.862745   \n",
            "recall_sc_micro     0.888889       0.911111      0.911111  0.844444   \n",
            "recall_sc_macro     0.900463       0.921296      0.921296  0.863426   \n",
            "f1_sc_micro         0.888889       0.911111      0.911111  0.844444   \n",
            "f1_sc_macro         0.901192       0.921296      0.921296  0.862626   \n",
            "\n",
            "                    KNN_optimized  Decision Tree  Decision Tree_optimized  \\\n",
            "accuracy_sc              0.888889       0.911111                 0.911111   \n",
            "precision_sc_micro       0.888889       0.911111                 0.911111   \n",
            "precision_sc_macro       0.902924       0.926190                 0.921296   \n",
            "recall_sc_micro          0.888889       0.911111                 0.911111   \n",
            "recall_sc_macro          0.900463       0.918981                 0.921296   \n",
            "f1_sc_micro              0.888889       0.911111                 0.911111   \n",
            "f1_sc_macro              0.901192       0.920468                 0.921296   \n",
            "\n",
            "                    Random Forest  Random Forest_optimized  \n",
            "accuracy_sc              0.911111                 0.911111  \n",
            "precision_sc_micro       0.911111                 0.911111  \n",
            "precision_sc_macro       0.926190                 0.926190  \n",
            "recall_sc_micro          0.911111                 0.911111  \n",
            "recall_sc_macro          0.918981                 0.918981  \n",
            "f1_sc_micro              0.911111                 0.911111  \n",
            "f1_sc_macro              0.920468                 0.920468  \n"
          ]
        }
      ]
    },
    {
      "cell_type": "markdown",
      "source": [
        "## Model-6 XG-boost"
      ],
      "metadata": {
        "id": "jEmdmdhM7KP9"
      }
    },
    {
      "cell_type": "code",
      "source": [
        "from xgboost import XGBClassifier\n",
        "classifier = XGBClassifier()\n",
        "score['XG-boost']=models(classifier,X_train,X_test,y_train,y_test)\n",
        "print(score)"
      ],
      "metadata": {
        "colab": {
          "base_uri": "https://localhost:8080/",
          "height": 1000
        },
        "id": "vNB4_zM_6xLP",
        "outputId": "b9902676-9dd6-4686-9ec6-ddac7d2215d3"
      },
      "execution_count": 52,
      "outputs": [
        {
          "output_type": "display_data",
          "data": {
            "text/plain": [
              "<Figure size 640x480 with 2 Axes>"
            ],
            "image/png": "[encoded data removed]"
          },
          "metadata": {}
        },
        {
          "output_type": "stream",
          "name": "stdout",
          "text": [
            "                    Logistic Regression  Logistic Regression optimized  \\\n",
            "accuracy_sc                    0.888889                       0.911111   \n",
            "precision_sc_micro             0.888889                       0.911111   \n",
            "precision_sc_macro             0.902924                       0.921296   \n",
            "recall_sc_micro                0.888889                       0.911111   \n",
            "recall_sc_macro                0.900463                       0.921296   \n",
            "f1_sc_micro                    0.888889                       0.911111   \n",
            "f1_sc_macro                    0.901192                       0.921296   \n",
            "\n",
            "                         SVM  SVM_optimized  SVM_optimizd       KNN  \\\n",
            "accuracy_sc         0.888889       0.911111      0.911111  0.844444   \n",
            "precision_sc_micro  0.888889       0.911111      0.911111  0.844444   \n",
            "precision_sc_macro  0.902924       0.921296      0.921296  0.862745   \n",
            "recall_sc_micro     0.888889       0.911111      0.911111  0.844444   \n",
            "recall_sc_macro     0.900463       0.921296      0.921296  0.863426   \n",
            "f1_sc_micro         0.888889       0.911111      0.911111  0.844444   \n",
            "f1_sc_macro         0.901192       0.921296      0.921296  0.862626   \n",
            "\n",
            "                    KNN_optimized  Decision Tree  Decision Tree_optimized  \\\n",
            "accuracy_sc              0.888889       0.911111                 0.911111   \n",
            "precision_sc_micro       0.888889       0.911111                 0.911111   \n",
            "precision_sc_macro       0.902924       0.926190                 0.921296   \n",
            "recall_sc_micro          0.888889       0.911111                 0.911111   \n",
            "recall_sc_macro          0.900463       0.918981                 0.921296   \n",
            "f1_sc_micro              0.888889       0.911111                 0.911111   \n",
            "f1_sc_macro              0.901192       0.920468                 0.921296   \n",
            "\n",
            "                    Random Forest  Random Forest_optimized  XG-boost  \n",
            "accuracy_sc              0.911111                 0.911111  0.911111  \n",
            "precision_sc_micro       0.911111                 0.911111  0.911111  \n",
            "precision_sc_macro       0.926190                 0.926190  0.921296  \n",
            "recall_sc_micro          0.911111                 0.911111  0.911111  \n",
            "recall_sc_macro          0.918981                 0.918981  0.921296  \n",
            "f1_sc_micro              0.911111                 0.911111  0.911111  \n",
            "f1_sc_macro              0.920468                 0.920468  0.921296  \n"
          ]
        }
      ]
    },
    {
      "cell_type": "markdown",
      "source": [
        " ### Cross- Validation & Hyperparameter Tuning"
      ],
      "metadata": {
        "id": "QFy6aYT37cjW"
      }
    },
    {
      "cell_type": "code",
      "source": [
        "parameters = {'learning_rate': np.arange(0.01, 0.3, 0.01),\n",
        "              'max_depth': np.arange(3, 15, 1),\n",
        "              'n_estimators': np.arange(100, 200, 10)}\n",
        "classifier=XGBClassifier()\n",
        "grid_search = GridSearchCV(estimator = classifier,\n",
        "                           param_grid = parameters,\n",
        "                           scoring = 'accuracy',\n",
        "                           cv = 10,\n",
        "                           n_jobs = -1)\n",
        "grid_search.fit(X_train, y_train)\n",
        "best_accuracy = grid_search.best_score_\n",
        "best_parameters = grid_search.best_params_\n",
        "print(\"Best Accuracy: {:.2f} %\".format(best_accuracy*100))\n",
        "print(\"Best Parameters:\", best_parameters)"
      ],
      "metadata": {
        "colab": {
          "base_uri": "https://localhost:8080/",
          "height": 356
        },
        "id": "2EXm-MCn7Z7U",
        "outputId": "9c4609a6-7274-4cfc-9dd6-4925bbfd9983"
      },
      "execution_count": 69,
      "outputs": [
        {
          "output_type": "error",
          "ename": "KeyboardInterrupt",
          "evalue": "",
          "traceback": [
            "\u001b[0;31m---------------------------------------------------------------------------\u001b[0m",
            "\u001b[0;31mKeyboardInterrupt\u001b[0m                         Traceback (most recent call last)",
            "\u001b[0;32m<ipython-input-69-c218220c051b>\u001b[0m in \u001b[0;36m<cell line: 10>\u001b[0;34m()\u001b[0m\n\u001b[1;32m      8\u001b[0m                            \u001b[0mcv\u001b[0m \u001b[0;34m=\u001b[0m \u001b[0;36m10\u001b[0m\u001b[0;34m,\u001b[0m\u001b[0;34m\u001b[0m\u001b[0;34m\u001b[0m\u001b[0m\n\u001b[1;32m      9\u001b[0m                            n_jobs = -1)\n\u001b[0;32m---> 10\u001b[0;31m \u001b[0mgrid_search\u001b[0m\u001b[0;34m.\u001b[0m\u001b[0mfit\u001b[0m\u001b[0;34m(\u001b[0m\u001b[0mX_train\u001b[0m\u001b[0;34m,\u001b[0m \u001b[0my_train\u001b[0m\u001b[0;34m)\u001b[0m\u001b[0;34m\u001b[0m\u001b[0;34m\u001b[0m\u001b[0m\n\u001b[0m\u001b[1;32m     11\u001b[0m \u001b[0mbest_accuracy\u001b[0m \u001b[0;34m=\u001b[0m \u001b[0mgrid_search\u001b[0m\u001b[0;34m.\u001b[0m\u001b[0mbest_score_\u001b[0m\u001b[0;34m\u001b[0m\u001b[0;34m\u001b[0m\u001b[0m\n\u001b[1;32m     12\u001b[0m \u001b[0mbest_parameters\u001b[0m \u001b[0;34m=\u001b[0m \u001b[0mgrid_search\u001b[0m\u001b[0;34m.\u001b[0m\u001b[0mbest_params_\u001b[0m\u001b[0;34m\u001b[0m\u001b[0;34m\u001b[0m\u001b[0m\n",
            "\u001b[0;32m/usr/local/lib/python3.10/dist-packages/sklearn/model_selection/_search.py\u001b[0m in \u001b[0;36mfit\u001b[0;34m(self, X, y, groups, **fit_params)\u001b[0m\n\u001b[1;32m    872\u001b[0m                 \u001b[0;32mreturn\u001b[0m \u001b[0mresults\u001b[0m\u001b[0;34m\u001b[0m\u001b[0;34m\u001b[0m\u001b[0m\n\u001b[1;32m    873\u001b[0m \u001b[0;34m\u001b[0m\u001b[0m\n\u001b[0;32m--> 874\u001b[0;31m             \u001b[0mself\u001b[0m\u001b[0;34m.\u001b[0m\u001b[0m_run_search\u001b[0m\u001b[0;34m(\u001b[0m\u001b[0mevaluate_candidates\u001b[0m\u001b[0;34m)\u001b[0m\u001b[0;34m\u001b[0m\u001b[0;34m\u001b[0m\u001b[0m\n\u001b[0m\u001b[1;32m    875\u001b[0m \u001b[0;34m\u001b[0m\u001b[0m\n\u001b[1;32m    876\u001b[0m             \u001b[0;31m# multimetric is determined here because in the case of a callable\u001b[0m\u001b[0;34m\u001b[0m\u001b[0;34m\u001b[0m\u001b[0m\n",
            "\u001b[0;32m/usr/local/lib/python3.10/dist-packages/sklearn/model_selection/_search.py\u001b[0m in \u001b[0;36m_run_search\u001b[0;34m(self, evaluate_candidates)\u001b[0m\n\u001b[1;32m   1386\u001b[0m     \u001b[0;32mdef\u001b[0m \u001b[0m_run_search\u001b[0m\u001b[0;34m(\u001b[0m\u001b[0mself\u001b[0m\u001b[0;34m,\u001b[0m \u001b[0mevaluate_candidates\u001b[0m\u001b[0;34m)\u001b[0m\u001b[0;34m:\u001b[0m\u001b[0;34m\u001b[0m\u001b[0;34m\u001b[0m\u001b[0m\n\u001b[1;32m   1387\u001b[0m         \u001b[0;34m\"\"\"Search all candidates in param_grid\"\"\"\u001b[0m\u001b[0;34m\u001b[0m\u001b[0;34m\u001b[0m\u001b[0m\n\u001b[0;32m-> 1388\u001b[0;31m         \u001b[0mevaluate_candidates\u001b[0m\u001b[0;34m(\u001b[0m\u001b[0mParameterGrid\u001b[0m\u001b[0;34m(\u001b[0m\u001b[0mself\u001b[0m\u001b[0;34m.\u001b[0m\u001b[0mparam_grid\u001b[0m\u001b[0;34m)\u001b[0m\u001b[0;34m)\u001b[0m\u001b[0;34m\u001b[0m\u001b[0;34m\u001b[0m\u001b[0m\n\u001b[0m\u001b[1;32m   1389\u001b[0m \u001b[0;34m\u001b[0m\u001b[0m\n\u001b[1;32m   1390\u001b[0m \u001b[0;34m\u001b[0m\u001b[0m\n",
            "\u001b[0;32m/usr/local/lib/python3.10/dist-packages/sklearn/model_selection/_search.py\u001b[0m in \u001b[0;36mevaluate_candidates\u001b[0;34m(candidate_params, cv, more_results)\u001b[0m\n\u001b[1;32m    819\u001b[0m                     )\n\u001b[1;32m    820\u001b[0m \u001b[0;34m\u001b[0m\u001b[0m\n\u001b[0;32m--> 821\u001b[0;31m                 out = parallel(\n\u001b[0m\u001b[1;32m    822\u001b[0m                     delayed(_fit_and_score)(\n\u001b[1;32m    823\u001b[0m                         \u001b[0mclone\u001b[0m\u001b[0;34m(\u001b[0m\u001b[0mbase_estimator\u001b[0m\u001b[0;34m)\u001b[0m\u001b[0;34m,\u001b[0m\u001b[0;34m\u001b[0m\u001b[0;34m\u001b[0m\u001b[0m\n",
            "\u001b[0;32m/usr/local/lib/python3.10/dist-packages/sklearn/utils/parallel.py\u001b[0m in \u001b[0;36m__call__\u001b[0;34m(self, iterable)\u001b[0m\n\u001b[1;32m     61\u001b[0m             \u001b[0;32mfor\u001b[0m \u001b[0mdelayed_func\u001b[0m\u001b[0;34m,\u001b[0m \u001b[0margs\u001b[0m\u001b[0;34m,\u001b[0m \u001b[0mkwargs\u001b[0m \u001b[0;32min\u001b[0m \u001b[0miterable\u001b[0m\u001b[0;34m\u001b[0m\u001b[0;34m\u001b[0m\u001b[0m\n\u001b[1;32m     62\u001b[0m         )\n\u001b[0;32m---> 63\u001b[0;31m         \u001b[0;32mreturn\u001b[0m \u001b[0msuper\u001b[0m\u001b[0;34m(\u001b[0m\u001b[0;34m)\u001b[0m\u001b[0;34m.\u001b[0m\u001b[0m__call__\u001b[0m\u001b[0;34m(\u001b[0m\u001b[0miterable_with_config\u001b[0m\u001b[0;34m)\u001b[0m\u001b[0;34m\u001b[0m\u001b[0;34m\u001b[0m\u001b[0m\n\u001b[0m\u001b[1;32m     64\u001b[0m \u001b[0;34m\u001b[0m\u001b[0m\n\u001b[1;32m     65\u001b[0m \u001b[0;34m\u001b[0m\u001b[0m\n",
            "\u001b[0;32m/usr/local/lib/python3.10/dist-packages/joblib/parallel.py\u001b[0m in \u001b[0;36m__call__\u001b[0;34m(self, iterable)\u001b[0m\n\u001b[1;32m   2005\u001b[0m         \u001b[0mnext\u001b[0m\u001b[0;34m(\u001b[0m\u001b[0moutput\u001b[0m\u001b[0;34m)\u001b[0m\u001b[0;34m\u001b[0m\u001b[0;34m\u001b[0m\u001b[0m\n\u001b[1;32m   2006\u001b[0m \u001b[0;34m\u001b[0m\u001b[0m\n\u001b[0;32m-> 2007\u001b[0;31m         \u001b[0;32mreturn\u001b[0m \u001b[0moutput\u001b[0m \u001b[0;32mif\u001b[0m \u001b[0mself\u001b[0m\u001b[0;34m.\u001b[0m\u001b[0mreturn_generator\u001b[0m \u001b[0;32melse\u001b[0m \u001b[0mlist\u001b[0m\u001b[0;34m(\u001b[0m\u001b[0moutput\u001b[0m\u001b[0;34m)\u001b[0m\u001b[0;34m\u001b[0m\u001b[0;34m\u001b[0m\u001b[0m\n\u001b[0m\u001b[1;32m   2008\u001b[0m \u001b[0;34m\u001b[0m\u001b[0m\n\u001b[1;32m   2009\u001b[0m     \u001b[0;32mdef\u001b[0m \u001b[0m__repr__\u001b[0m\u001b[0;34m(\u001b[0m\u001b[0mself\u001b[0m\u001b[0;34m)\u001b[0m\u001b[0;34m:\u001b[0m\u001b[0;34m\u001b[0m\u001b[0;34m\u001b[0m\u001b[0m\n",
            "\u001b[0;32m/usr/local/lib/python3.10/dist-packages/joblib/parallel.py\u001b[0m in \u001b[0;36m_get_outputs\u001b[0;34m(self, iterator, pre_dispatch)\u001b[0m\n\u001b[1;32m   1648\u001b[0m \u001b[0;34m\u001b[0m\u001b[0m\n\u001b[1;32m   1649\u001b[0m             \u001b[0;32mwith\u001b[0m \u001b[0mself\u001b[0m\u001b[0;34m.\u001b[0m\u001b[0m_backend\u001b[0m\u001b[0;34m.\u001b[0m\u001b[0mretrieval_context\u001b[0m\u001b[0;34m(\u001b[0m\u001b[0;34m)\u001b[0m\u001b[0;34m:\u001b[0m\u001b[0;34m\u001b[0m\u001b[0;34m\u001b[0m\u001b[0m\n\u001b[0;32m-> 1650\u001b[0;31m                 \u001b[0;32myield\u001b[0m \u001b[0;32mfrom\u001b[0m \u001b[0mself\u001b[0m\u001b[0;34m.\u001b[0m\u001b[0m_retrieve\u001b[0m\u001b[0;34m(\u001b[0m\u001b[0;34m)\u001b[0m\u001b[0;34m\u001b[0m\u001b[0;34m\u001b[0m\u001b[0m\n\u001b[0m\u001b[1;32m   1651\u001b[0m \u001b[0;34m\u001b[0m\u001b[0m\n\u001b[1;32m   1652\u001b[0m         \u001b[0;32mexcept\u001b[0m \u001b[0mGeneratorExit\u001b[0m\u001b[0;34m:\u001b[0m\u001b[0;34m\u001b[0m\u001b[0;34m\u001b[0m\u001b[0m\n",
            "\u001b[0;32m/usr/local/lib/python3.10/dist-packages/joblib/parallel.py\u001b[0m in \u001b[0;36m_retrieve\u001b[0;34m(self)\u001b[0m\n\u001b[1;32m   1760\u001b[0m                 (self._jobs[0].get_status(\n\u001b[1;32m   1761\u001b[0m                     timeout=self.timeout) == TASK_PENDING)):\n\u001b[0;32m-> 1762\u001b[0;31m                 \u001b[0mtime\u001b[0m\u001b[0;34m.\u001b[0m\u001b[0msleep\u001b[0m\u001b[0;34m(\u001b[0m\u001b[0;36m0.01\u001b[0m\u001b[0;34m)\u001b[0m\u001b[0;34m\u001b[0m\u001b[0;34m\u001b[0m\u001b[0m\n\u001b[0m\u001b[1;32m   1763\u001b[0m                 \u001b[0;32mcontinue\u001b[0m\u001b[0;34m\u001b[0m\u001b[0;34m\u001b[0m\u001b[0m\n\u001b[1;32m   1764\u001b[0m \u001b[0;34m\u001b[0m\u001b[0m\n",
            "\u001b[0;31mKeyboardInterrupt\u001b[0m: "
          ]
        }
      ]
    },
    {
      "cell_type": "markdown",
      "source": [
        "## selecting best model"
      ],
      "metadata": {
        "id": "-5MLze61AbAg"
      }
    },
    {
      "cell_type": "code",
      "source": [
        "score_t = score.transpose()\n"
      ],
      "metadata": {
        "id": "Y48GkcYrAX_v"
      },
      "execution_count": 57,
      "outputs": []
    },
    {
      "cell_type": "code",
      "source": [
        "def select_best_model(df, metrics):\n",
        "\n",
        "    best_models = {}\n",
        "    for metric in metrics:\n",
        "        max_test = df[metric].max()\n",
        "        best_model_test = df[df[metric] == max_test].index[0]\n",
        "        best_model = best_model_test\n",
        "        best_models[metric] = best_model\n",
        "    return best_models"
      ],
      "metadata": {
        "id": "zB0hHhs0AX9M"
      },
      "execution_count": 66,
      "outputs": []
    },
    {
      "cell_type": "code",
      "source": [
        "metrics = [\"accuracy_sc\",\"precision_sc_micro\",\"precision_sc_macro\",\"recall_sc_micro\",\"recall_sc_macro\",\"f1_sc_micro\",\"f1_sc_macro\"]\n",
        "\n",
        "best_models = select_best_model(score_t, metrics)\n",
        "print(\"The best models are:\")\n",
        "for metric, best_model in best_models.items():\n",
        "    print(f\"{metric}: {best_model} - {score_t[metric][best_model].round(4)}\")"
      ],
      "metadata": {
        "colab": {
          "base_uri": "https://localhost:8080/"
        },
        "id": "n-hyoH1mAX6l",
        "outputId": "814a7d84-1dc4-4c5e-8e4e-0cc08cb5d5d1"
      },
      "execution_count": 68,
      "outputs": [
        {
          "output_type": "stream",
          "name": "stdout",
          "text": [
            "The best models are:\n",
            "accuracy_sc: Logistic Regression optimized - 0.9111\n",
            "precision_sc_micro: Logistic Regression optimized - 0.9111\n",
            "precision_sc_macro: Decision Tree - 0.9262\n",
            "recall_sc_micro: Logistic Regression optimized - 0.9111\n",
            "recall_sc_macro: Logistic Regression optimized - 0.9213\n",
            "f1_sc_micro: Logistic Regression optimized - 0.9111\n",
            "f1_sc_macro: Logistic Regression optimized - 0.9213\n"
          ]
        }
      ]
    },
    {
      "cell_type": "code",
      "source": [],
      "metadata": {
        "id": "VeVwXVC5AXvy"
      },
      "execution_count": null,
      "outputs": []
    }
  ]
}